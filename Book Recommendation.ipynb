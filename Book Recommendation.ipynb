{
 "cells": [
  {
   "cell_type": "markdown",
   "metadata": {},
   "source": [
    "## Mini Project 1\n",
    "\n",
    "## Recommendation System\n",
    "\n",
    "## 120 Points."
   ]
  },
  {
   "cell_type": "markdown",
   "metadata": {},
   "source": [
    "### Implementation"
   ]
  },
  {
   "cell_type": "markdown",
   "metadata": {},
   "source": [
    "<font color=\"blue\">**Task 1: Reading Data**</font>"
   ]
  },
  {
   "cell_type": "markdown",
   "metadata": {},
   "source": [
    "1. <font color=\"red\">[10 pts]</font> Write a function <font color=\"brown\">read_ratings_data(f)</font> that takes in a ratings file name, and returns a dictionary. (Note: the parameter is a file name string such as \"ratings.csv\", NOT a file pointer.) The dictionary should have ISBN as key, and the list of all ratings for it as value.\n",
    "For example:  book_ratings_dict = { '034545104X': [9, 8, 7], '0486282406': [10, 9, 8] }"
   ]
  },
  {
   "cell_type": "code",
   "execution_count": 5,
   "metadata": {},
   "outputs": [],
   "source": [
    "import csv\n",
    "\n",
    "def read_ratings_data(f):\n",
    "    '''\n",
    "    IN: f (str) - filename\n",
    "    OUT: book_ratings_dict (dict{str: list[int]}) - dictionary of ratings\n",
    "    '''\n",
    "\n",
    "    # Set up dictionary to store ratings\n",
    "    book_ratings_dict = {}\n",
    "\n",
    "    # Set up csv reader\n",
    "    with open(f, 'r') as csvfile:\n",
    "        reader = csv.DictReader(csvfile)\n",
    "\n",
    "        # Read in data\n",
    "        for row in reader:\n",
    "            # Add rating to dictionary\n",
    "            isbn = row['ISBN']\n",
    "            rating = int(row['Book-Rating'])\n",
    "            if isbn in book_ratings_dict:\n",
    "                book_ratings_dict[isbn].append(rating)\n",
    "            else:\n",
    "                book_ratings_dict[isbn] = [rating]\n",
    "\n",
    "    # Return dictionary\n",
    "    return book_ratings_dict"
   ]
  },
  {
   "cell_type": "markdown",
   "metadata": {},
   "source": [
    "2. <font color=\"red\">[10 pts]</font> Write a function <font color=\"brown\">read_book_author(f)</font> that takes in a books.csv file name and returns a dictionary. The dictionary should have a one-to-one mapping from ISBN to author.\n",
    "For example:   book_author_dict = { '0195153448': 'Mark P. O. Morford', '0373037430': 'Rebecca Winters' }\n",
    "\n",
    "Note: Some books may have multiple authors. In this case, you can take the entire string as a macro author."
   ]
  },
  {
   "cell_type": "code",
   "execution_count": 12,
   "metadata": {},
   "outputs": [],
   "source": [
    "import csv\n",
    "\n",
    "def read_book_author(f):\n",
    "    '''\n",
    "    IN: f (str) - filename\n",
    "    OUT: book_author_dict (dict{str: str}) - dictionary of book authors\n",
    "    '''\n",
    "\n",
    "    # Set up dictionary to store authors\n",
    "    book_author_dict = {}\n",
    "\n",
    "    # Set up csv reader\n",
    "    with open(f, 'r') as csvfile:\n",
    "        reader = csv.DictReader(csvfile)\n",
    "\n",
    "        # Read in data\n",
    "        for row in reader:\n",
    "            # Add author to dictionary\n",
    "            isbn = row['ISBN']\n",
    "            author = row['Book-Author']\n",
    "            book_author_dict[isbn] = author\n",
    "\n",
    "    # Return dictionary\n",
    "    return book_author_dict"
   ]
  },
  {
   "cell_type": "markdown",
   "metadata": {},
   "source": [
    "<font color=\"blue\">**Task 2: Processing Data**</font>"
   ]
  },
  {
   "cell_type": "markdown",
   "metadata": {},
   "source": [
    "1. <font color=\"red\">[8 pts]</font> author  dictionary \n",
    "\n",
    "    Write a function<font color=\"brown\"> create_author_dict</font> that takes as a parameter a book dictionary, of the kind created in Task 1.2. The function should return another dictionary in which a author is mapped to all the books in that author.\n",
    "\n",
    "    For example:   { 'Author 1': ['034545104X', '0385333498'], 'Author 2': ['0142000663'] }"
   ]
  },
  {
   "cell_type": "code",
   "execution_count": 10,
   "metadata": {},
   "outputs": [],
   "source": [
    "def create_author_dict(book_author_dict):\n",
    "    '''\n",
    "    IN: book_author_dict (dict{str: str}) - dictionary of book authors\n",
    "    OUT: author_to_books_dict (dict{str: list[str]}) - dictionary of authors and their books\n",
    "    '''\n",
    "\n",
    "    # Set up dictionary to store authors and their books\n",
    "    author_to_books_dict = {}\n",
    "\n",
    "    # Populate dictionary\n",
    "    for ISBN, author in book_author_dict.items():\n",
    "        if author in author_to_books_dict:\n",
    "            author_to_books_dict[author].append(ISBN)\n",
    "        else:\n",
    "            author_to_books_dict[author] = [ISBN]\n",
    "\n",
    "    # Return dictionary\n",
    "    return author_to_books_dict"
   ]
  },
  {
   "cell_type": "markdown",
   "metadata": {},
   "source": [
    "2. <font color=\"red\">[8 pts]</font> Average Rating\n",
    "    Write a function <font color=\"brown\">calculate_average_rating</font> that takes as a parameter a ratings dictionary, of the kind created in Task 1.1. It should return a dictionary where the book ISBN is mapped to its average rating computed from the ratings list.\n",
    "\n",
    "    For example:   {'034545104X': 4.0, '0375803482': 7.0 }"
   ]
  },
  {
   "cell_type": "code",
   "execution_count": 11,
   "metadata": {},
   "outputs": [],
   "source": [
    "def calculate_average_rating(book_ratings_dict):\n",
    "    '''\n",
    "    IN: book_ratings_dict (dict{str: list[int]}) - dictionary of ratings\n",
    "    OUT: book_to_average_dict (dict{str: float}) - dictionary of average ratings\n",
    "    '''\n",
    "\n",
    "    # Set up dictionary to store average ratings\n",
    "    book_to_average_dict = {}\n",
    "\n",
    "    # Calculate average rating for each book\n",
    "    for ISBN, ratings in book_ratings_dict.items():\n",
    "        average_rating = sum(ratings) / len(ratings)\n",
    "        book_to_average_dict[ISBN] = average_rating\n",
    "\n",
    "    # Return dictionary\n",
    "    return book_to_average_dict"
   ]
  },
  {
   "cell_type": "markdown",
   "metadata": {},
   "source": [
    "<font color=\"blue\">**Task 3: Recommendation**</font>"
   ]
  },
  {
   "cell_type": "markdown",
   "metadata": {},
   "source": [
    "1. <font color=\"red\">[10 pts]</font> Popularity based\n",
    "\n",
    "    In services such as kindle and goodnotes, you often see recommendations with the heading “Popular Books or “Trending top 10”.\n",
    "\n",
    "    Write a function <font color=\"brown\">get_popular_books</font> that takes as parameters a dictionary of book-to-average rating ( as created in Task 2.2), and an integer n (default should be 10). The function should return a dictionary ( book:average, same structure as input dictionary) of top n books based on the average ratings. If there are fewer than n books, it should return all books in ranked order of average ratings from highest to lowest.\n",
    "\n"
   ]
  },
  {
   "cell_type": "code",
   "execution_count": 14,
   "metadata": {},
   "outputs": [
    {
     "data": {
      "text/plain": [
       "{'Percy Jackon': 5, 'Harry Potter': 3.4, 'DaVinci Code': 1}"
      ]
     },
     "execution_count": 14,
     "metadata": {},
     "output_type": "execute_result"
    }
   ],
   "source": [
    "def get_popular_books(book_to_average_dict, n=10):\n",
    "    '''\n",
    "    IN: book_to_average_dict (dict{str: float}) - dictionary of average ratings\n",
    "        n (int) - number of books to return\n",
    "    OUT: popular_books_dict (dict{str: float}) - dictionary of top n books\n",
    "    '''\n",
    "\n",
    "    # Sort books by average rating\n",
    "\n",
    "    d = {}\n",
    "\n",
    "    book_to_average_sorted = sorted(book_to_average_dict, key=book_to_average_dict.get, reverse=True)\n",
    "\n",
    "    # Return top n books\n",
    "\n",
    "    top_n = min(len(book_to_average_sorted), n)\n",
    "\n",
    "    res = {}\n",
    "        \n",
    "    for i in range(top_n):\n",
    "        res[book_to_average_sorted[i]] =  book_to_average_dict[book_to_average_sorted[i]]\n",
    "    \n",
    "    return res\n",
    "\n",
    "get_popular_books({\"Harry Potter\": 3.4, \"Percy Jackon\": 5, \"DaVinci Code\": 1}, n=10)"
   ]
  },
  {
   "cell_type": "markdown",
   "metadata": {},
   "source": [
    "2. <font color=\"red\">[10  pts]</font> Threshold Rating\n",
    "\n",
    "    Write a function <font color=\"brown\"> filter_books </font> that takes as parameters a dictionary of book-to-average rating (same as for the popularity based function above), and a threshold rating with default value of 3. The function should filter books  based on the threshold rating, and return a dictionary with same structure as the input. \n",
    "    For example, if the threshold rating is 3.5, the returned dictionary should have only those books from the input whose average rating is equal to or greater than 3.5."
   ]
  },
  {
   "cell_type": "code",
   "execution_count": 25,
   "metadata": {},
   "outputs": [
    {
     "data": {
      "text/plain": [
       "{'Harry Potter': 3.4, 'Percy Jackon': 5, 'DaVinci Code': 1}"
      ]
     },
     "execution_count": 25,
     "metadata": {},
     "output_type": "execute_result"
    }
   ],
   "source": [
    "def filter_books(book_to_average_dict, threshold=3.0):\n",
    "    '''\n",
    "    IN: book_to_average_dict (dict{str: float}) - dictionary of average ratings\n",
    "        threshold (float) - minimum rating to keep\n",
    "    OUT: filtered_books_dict (dict{str: float}) - dictionary of books above threshold\n",
    "    '''\n",
    "\n",
    "    # Filter books above threshold\n",
    "    filtered_books_dict = {}\n",
    "\n",
    "    for book in book_to_average_dict:\n",
    "        if book_to_average_dict[book] >= threshold:\n",
    "            filtered_books_dict[book] = book_to_average_dict[book] \n",
    "\n",
    "    # Return filtered books\n",
    "    \n",
    "    return filtered_books_dict\n",
    "filter_books({\"Harry Potter\": 3.4, \"Percy Jackon\": 5, \"DaVinci Code\": 1}, threshold=0)"
   ]
  },
  {
   "cell_type": "markdown",
   "metadata": {},
   "source": [
    "3. <font color=\"red\">[10 pts]</font> Popularity + Author Based \n",
    "\n",
    "    In most recommendation systems, creator of the movie/song/book plays an important role. Often, features like popularity, author(creator) are combined to present recommendations to a user.\n",
    "\n",
    "    Write a function <font color=\"brown\">get_popular_by_author</font> that, given a author, a author-to-books  dictionary (as created in Task 2.1), a dictionary of book-to-average rating (as created in Task 2.2), and an integer n (default 5), returns the top n most popular books  in that author  based on the average ratings. The return value should be a dictionary of book-to-average rating of books that make the cut. If there are fewer than n books, it should return all books in ranked order of average ratings from highest to lowest.\n",
    "\n",
    "    Note: some books in the `author_to_books_dict` dictionary may not appear in the `book_to_average_dict` dictionary. You should ignore such books."
   ]
  },
  {
   "cell_type": "code",
   "execution_count": 13,
   "metadata": {},
   "outputs": [
    {
     "data": {
      "text/plain": [
       "{'Harry Potter': 3.4, 'HP 2': 3.1}"
      ]
     },
     "execution_count": 13,
     "metadata": {},
     "output_type": "execute_result"
    }
   ],
   "source": [
    "def get_popular_by_author(author, author_to_books_dict, book_to_average_dict, n=5):\n",
    "    '''\n",
    "    IN: author (str) - author name\n",
    "        author_to_books_dict (dict{str: list[str]}) - dictionary of authors and their books\n",
    "        book_to_average_dict (dict{str: float}) - dictionary of average ratings\n",
    "        n (int) - number of books to return\n",
    "    OUT: popular_books_by_author_dict (dict{str: float}) - dictionary of top n books by author\n",
    "    '''\n",
    "\n",
    "    # Get books by author\n",
    "    \n",
    "    if author not in author_to_books_dict:\n",
    "        return None\n",
    "    books = author_to_books_dict[author]\n",
    "\n",
    "    # Sort books by average rating\n",
    "    books_rate = {}\n",
    "\n",
    "    for b in books:\n",
    "        if b not in book_to_average_dict:\n",
    "            break\n",
    "        books_rate[b] = book_to_average_dict[b]\n",
    "    \n",
    "    books_sorted = sorted(books_rate, key=books_rate.get, reverse=True)\n",
    "\n",
    "    # Return top n books\n",
    "\n",
    "    top_n = min(len(books_sorted), n)\n",
    "\n",
    "    res = {}\n",
    "        \n",
    "    for i in range(top_n):\n",
    "        res[books_sorted[i]] =  books_rate[books_sorted[i]]\n",
    "    \n",
    "    return res\n",
    "    \n",
    "get_popular_by_author(\"J.K.\", {\"J.K.\": [\"Harry Potter\", \"HP 2\", \"HP 3\"], \"Rick\": [\"Percy Jackson\"]}, {\"Harry Potter\": 3.4, \"HP 2\": 3.1, \"Percy Jackon\": 5, \"DaVinci Code\": 1}, 2)"
   ]
  },
  {
   "cell_type": "markdown",
   "metadata": {},
   "source": [
    "4. <font color=\"red\">[10  pts]</font>  Author Rating \n",
    "\n",
    "    One important analysis for content platforms is to determine ratings by Author\n",
    "\n",
    "    Write a function <font color=\"brown\">get_author_rating</font> that takes the same parameters as <font color=\"brown\">get_popular_by_author</font> above, except for n, and returns the average rating of the books in the given author."
   ]
  },
  {
   "cell_type": "code",
   "execution_count": 2,
   "metadata": {},
   "outputs": [
    {
     "data": {
      "text/plain": [
       "3.9333333333333336"
      ]
     },
     "execution_count": 2,
     "metadata": {},
     "output_type": "execute_result"
    }
   ],
   "source": [
    "def get_author_rating(author, author_to_books_dict, book_ratings_dict):\n",
    "    '''\n",
    "    IN: author (str) - author name\n",
    "        author_to_books_dict (dict{str: list[str]}) - dictionary of authors and their books\n",
    "        book_ratings_dict (dict{str: list[int]}) - dictionary of ratings\n",
    "    OUT: author_rating (float) - average rating for author's books\n",
    "    '''\n",
    "\n",
    "    # Get books by author\n",
    "    if author not in author_to_books_dict:\n",
    "        return None\n",
    "    books = author_to_books_dict[author]\n",
    "\n",
    "    # Get ratings for books\n",
    "    count = 0\n",
    "    ratings = 0\n",
    "    for book in books:\n",
    "        if book in book_ratings_dict:\n",
    "            ratings += book_ratings_dict[book]\n",
    "            count += 1\n",
    "\n",
    "    # Calculate average rating\n",
    "    average = 0\n",
    "    if ratings > 0 and count > 0:\n",
    "        average = ratings/count\n",
    "\n",
    "    # Return average rating\n",
    "\n",
    "    return average\n",
    "\n",
    "\n",
    "get_author_rating(\"J.K.\", {\"J.K.\": [\"Harry Potter\", \"HP 2\", \"HP 3\"], \"Rick\": [\"Percy Jackson\"]}, {\"Harry Potter\": 3.4, \"HP 2\": 3.4, \"HP 3\": 5, \"Percy Jackon\": 5, \"DaVinci Code\": 1})"
   ]
  },
  {
   "cell_type": "markdown",
   "metadata": {},
   "source": [
    "5. <font color=\"red\">[10 pts]</font> Author Popularity \n",
    "\n",
    "    Write a function <font color=\"brown\">author_popularity </font> that takes as parameters a author-to-books  dictionary (as created in Task 2.1), a book-to-average  rating dictionary (as created in Task 2.2), and n (default 5), and returns the top-n rated authors  as a dictionary of author-to-average  rating. If there are fewer than n authors , it should return all authors in ranked order of average ratings from highest to lowest. \n",
    "    Hint: Use the above get_author_rating function as a helper."
   ]
  },
  {
   "cell_type": "code",
   "execution_count": 8,
   "metadata": {},
   "outputs": [
    {
     "data": {
      "text/plain": [
       "['J.K.', 'Rick']"
      ]
     },
     "execution_count": 8,
     "metadata": {},
     "output_type": "execute_result"
    }
   ],
   "source": [
    "def author_popularity(author_to_books_dict, book_to_average_dict, n=5):\n",
    "    '''\n",
    "    IN: author_to_books_dict (dict{str: list[str]}) - dictionary of authors and their books\n",
    "        book_to_average_dict (dict{str: float}) - dictionary of average ratings\n",
    "        n (int) - number of authors to return\n",
    "    OUT: popular_authors_dict (dict{str: float}) - dictionary of top n authors\n",
    "    '''\n",
    "    auth_rat = {}\n",
    "    # Calculate average rating for each author\n",
    "    for author in author_to_books_dict:\n",
    "        auth_rat[author] = get_author_rating(author,author_to_books_dict, book_to_average_dict)\n",
    "\n",
    "    # Return top n authors\n",
    "    auth_sorted = sorted(auth_rat, key=auth_rat.get, reverse = True)\n",
    "\n",
    "    res = []\n",
    "\n",
    "    for i in range(n):\n",
    "        res.append(auth_sorted[i])\n",
    "\n",
    "    return res\n",
    "author_popularity({\"J.K.\": [\"Harry Potter\", \"HP 2\", \"HP 3\"], \"Rick\": [\"Percy Jackson\"], \"Tom Brady\": [\"Football\", \"occe\", \"Football 2\"]}, {\"Harry Potter\": 3.4, \"HP 2\": 3.4, \"HP 3\": 5, \"Percy Jackon\": 5, \"DaVinci Code\": 1, \"Football\": }, 2)"
   ]
  },
  {
   "cell_type": "markdown",
   "metadata": {},
   "source": [
    "<font color=\"blue\">**Task 4: User Focused**</font>"
   ]
  },
  {
   "cell_type": "markdown",
   "metadata": {},
   "source": [
    "1. <font color=\"red\">[10 pts]</font> Read the ratings file to return a user-to-books dictionary that maps user ID to a list of the books they rated, along with the rating they gave. Write a function named <font color=\"brown\">read_user_ratings</font> for this, with the ratings file as the parameter.\n",
    "For example: { 1: [('034545104X', 5), ('0385333498', 4)], 2: [('0142000663', 3)] } "
   ]
  },
  {
   "cell_type": "code",
   "execution_count": 1,
   "metadata": {},
   "outputs": [],
   "source": [
    "def read_user_ratings(f):\n",
    "    '''\n",
    "    IN: f (str) - filename\n",
    "    OUT: user_to_book_ratings_dict (dict{str: list[tuple(str, int)]}) - dictionary of user ratings\n",
    "    '''\n",
    "    user_to_book_ratings_dict = {}\n",
    "    with open(f, 'r') as file:\n",
    "        next(file)\n",
    "        for line in file:\n",
    "            print(line)\n",
    "            user_id, book_id, rating = line.strip().split(',')\n",
    "            user_id = int(user_id)\n",
    "            rating = int(rating)\n",
    "\n",
    "            if user_id in user_to_book_ratings_dict:\n",
    "                user_to_book_ratings_dict[user_id].append((book_id, rating))\n",
    "            else:\n",
    "                user_to_book_ratings_dict[user_id] = [(book_id, rating)]\n",
    "\n",
    "    return user_to_book_ratings_dict"
   ]
  },
  {
   "cell_type": "markdown",
   "metadata": {},
   "source": [
    "2. <font color=\"red\">[10 pts]</font> Write a function <font color=\"brown\"> get_user_top_author</font> that takes as parameters a userID, the user-to-books dictionary (as created in Task 4.1 above), and the book information dictionary (as created in Task 1.2), and returns the top author that the user likes based on the user's ratings. Here, the top author for the user will be determined by taking the average rating of the books author that the user has rated. If multiple author have the same highest ratings for the user, return any one of author (arbitrarily) as the top author.\n",
    "\n",
    "Notes: \n",
    "- Some books in the `user_to_book_ratings_dict` dictionary may not appear in the `book_author_dict` dictionary. You should ignore such books. \n",
    "- If none of the books rated by the user are present in the `book_author_dict` dictionary, return `None`."
   ]
  },
  {
   "cell_type": "code",
   "execution_count": 2,
   "metadata": {},
   "outputs": [],
   "source": [
    "def get_user_top_author(user_ID, user_to_book_ratings_dict, book_author_dict):\n",
    "    '''\n",
    "    IN: userID (str) - user ID\n",
    "        user_to_book_ratings_dict (dict{str: list[tuple(str, int)]}) - dictionary of user ratings\n",
    "        book_author_dict (dict{str: str}) - dictionary of book authors\n",
    "    OUT: top_author (str) - author with highest average ratings by user\n",
    "    '''\n",
    "\n",
    "    if user_ID not in user_to_book_ratings_dict:\n",
    "        return None\n",
    "\n",
    "    author_ratings = {}\n",
    "\n",
    "    books_rated_by_user = user_to_book_ratings_dict[user_ID]\n",
    "\n",
    "    for book_id, rating in books_rated_by_user:\n",
    "        if book_id in book_author_dict:\n",
    "            author = book_author_dict[book_id]\n",
    "\n",
    "            if author in author_ratings:\n",
    "                author_ratings[author].append(rating)\n",
    "            else:\n",
    "                author_ratings[author] = [rating]\n",
    "\n",
    "    if not author_ratings:\n",
    "        return None\n",
    "\n",
    "    top_author = None\n",
    "    highest_avg_rating = 0\n",
    "\n",
    "\n",
    "    for author, ratings in author_ratings.items():\n",
    "        avg_rating = sum(ratings) / len(ratings)\n",
    "\n",
    "        if avg_rating > highest_avg_rating:\n",
    "            highest_avg_rating = avg_rating\n",
    "            top_author = author\n",
    "\n",
    "    return top_author"
   ]
  },
  {
   "cell_type": "markdown",
   "metadata": {},
   "source": [
    "3. <font color=\"red\">[10 pts]</font> Recommend 3 most popular (highest average rating) books from the user's top author that the user has not yet rated. Write a function <font color=\"brown\">recommend_books</font> for this, that takes as parameters a user id, the user-to-books dictionary (as created in Task 4.1 above), the author-to-books  dictionary (as created in Task 1.2), and the book-to-average  rating dictionary (as created in Task 2.2). The function should return a dictionary of book-to-average  rating. If fewer than 3  books  make the cut, then return all the  books that make the cut in ranked order of average ratings from highest to lowest."
   ]
  },
  {
   "cell_type": "code",
   "execution_count": 4,
   "metadata": {},
   "outputs": [],
   "source": [
    "RECOMMEND_NUM = 3\n",
    "def recommend_books(user_ID, user_to_book_ratings_dict, book_author_dict, book_to_average_dict):\n",
    "    '''\n",
    "    IN: userID (str) - user ID\n",
    "        user_to_book_ratings_dict (dict{str: list[tuple(str, int)]}) - dictionary of user ratings\n",
    "        book_author_dict (dict{str: str}) - dictionary of book authors\n",
    "        book_to_average_dict (dict{str: float}) - dictionary of average ratings\n",
    "    OUT: recommended_books_dict (dict{str: float}) - dictionary of recommended books\n",
    "    '''\n",
    "    top_author = get_user_top_author(user_ID, user_to_book_ratings_dict, book_author_dict)\n",
    "\n",
    "    if not top_author:\n",
    "        return {}  # No top author found\n",
    "\n",
    "    books_rated_by_user = set(book_id for book_id, _ in user_to_book_ratings_dict.get(user_ID, []))\n",
    "\n",
    "    books_by_top_author = [book_id for book_id, author in book_author_dict.items() if author == top_author]\n",
    "\n",
    "    books_to_recommend = [book_id for book_id in books_by_top_author if book_id not in books_rated_by_user]\n",
    "\n",
    "    book_ratings_to_recommend = {book_id: book_to_average_dict[book_id] for book_id in books_to_recommend if\n",
    "                                 book_id in book_to_average_dict}\n",
    "\n",
    "    sorted_books = sorted(book_ratings_to_recommend.items(), key=lambda x: x[1], reverse=True)\n",
    "\n",
    "    recommended_books = dict(sorted_books[:RECOMMEND_NUM])\n",
    "\n",
    "    return recommended_books"
   ]
  }
 ],
 "metadata": {
  "kernelspec": {
   "display_name": "Python 3 (ipykernel)",
   "language": "python",
   "name": "python3"
  },
  "language_info": {
   "codemirror_mode": {
    "name": "ipython",
    "version": 3
   },
   "file_extension": ".py",
   "mimetype": "text/x-python",
   "name": "python",
   "nbconvert_exporter": "python",
   "pygments_lexer": "ipython3",
   "version": "3.12.6"
  }
 },
 "nbformat": 4,
 "nbformat_minor": 4
}
